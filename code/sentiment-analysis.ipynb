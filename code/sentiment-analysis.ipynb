{
 "cells": [
  {
   "cell_type": "markdown",
   "metadata": {},
   "source": [
    "# Sentiment Analysis - Feature extraction\n",
    "\n",
    "This notebook is part of the paper *Automated Identification of Security-Relevant Configuration Settings Using NLP* submitted to the [**37<sup>th</sup> IEEE/ACM International Conference on Automated Software Engineering (ASE)**](https://conf.researchr.org/track/ase-2022/ase-2022-industry-showcase).\n",
    "\n",
    "The other notebooks can be found here\n",
    "\n",
    "- [Topic Modeling and Latent Dirichlet Allocation](https://www.kaggle.com/code/tumin4/topic-modeling-and-latent-dirichlet-allocation)\n",
    "- [Transformer-based Machine Learning](https://www.kaggle.com/tumin4/transformer-based-machine-learning)\n",
    "\n",
    "and on [GitHub](https://github.com/tum-i4/Automated-Identification-of-Security-Relevant-Configuration-Settings-Using-NLP/)\n",
    "\n",
    "## Contact\n",
    "\n",
    "If you have any questions, please contact [Patrick Stöckle](mailto:patrick.stoeckle@tum.de?subject=Kaggle%20Notebook%20%22Sentiment%20Analysis%22).\n"
   ]
  },
  {
   "cell_type": "markdown",
   "metadata": {},
   "source": [
    "1. Acknowledgments\n",
    "2. Import libraries\n",
    "2. Load data\n",
    "3. Text preprocessing\n",
    "1. Class distribution\n",
    "4. Feature extraction characteristics\n",
    "    1. POS Tags\n",
    "    8. N-grams\n",
    "    1. Frequency"
   ]
  },
  {
   "cell_type": "markdown",
   "metadata": {},
   "source": [
    "### Acknowledgements"
   ]
  },
  {
   "cell_type": "markdown",
   "metadata": {},
   "source": [
    "This kernel is inspired by the following notebooks: \n",
    "* NLP - EDA, Bag of Words, TF IDF, GloVe, BERT\n",
    "* Twitter sentiment Extaction-Analysis,EDA and Model"
   ]
  },
  {
   "cell_type": "markdown",
   "metadata": {},
   "source": [
    "### Import libraries"
   ]
  },
  {
   "cell_type": "code",
   "execution_count": null,
   "metadata": {
    "execution": {
     "iopub.execute_input": "2022-05-06T12:12:43.402595Z",
     "iopub.status.busy": "2022-05-06T12:12:43.402307Z",
     "iopub.status.idle": "2022-05-06T12:12:43.40708Z",
     "shell.execute_reply": "2022-05-06T12:12:43.406499Z",
     "shell.execute_reply.started": "2022-05-06T12:12:43.402552Z"
    }
   },
   "outputs": [],
   "source": [
    "from json import load\n",
    "from collections import Counter\n",
    "from pandas import DataFrame\n",
    "from wordcloud import WordCloud\n",
    "from nltk import word_tokenize\n",
    "from nltk.text import Text\n",
    "from sklearn.feature_extraction.text import TfidfVectorizer\n",
    "import re\n",
    "import matplotlib.pyplot as plt\n",
    "import string\n",
    "import spacy"
   ]
  },
  {
   "cell_type": "markdown",
   "metadata": {},
   "source": [
    "### Load data"
   ]
  },
  {
   "cell_type": "code",
   "execution_count": null,
   "metadata": {
    "execution": {
     "iopub.execute_input": "2022-05-06T12:12:43.413289Z",
     "iopub.status.busy": "2022-05-06T12:12:43.412628Z",
     "iopub.status.idle": "2022-05-06T12:12:43.455831Z",
     "shell.execute_reply": "2022-05-06T12:12:43.454919Z",
     "shell.execute_reply.started": "2022-05-06T12:12:43.413246Z"
    }
   },
   "outputs": [],
   "source": [
    "with open(\"../input/ase2022/docs/cis/1909/sec_docs.json\") as f_read:\n",
    "    security_documents = load(f_read)\n",
    "\n",
    "with open(\"../input/ase2022/docs/cis/1909/non_sec_docs.json\") as f_read:\n",
    "    non_security_documents = load(f_read)\n",
    "\n",
    "print(f\"CIS windows 10 version 1909:\")\n",
    "print(f\"{len(security_documents)} security documents.\")\n",
    "print(f\"{len(non_security_documents)} non security documents.\")"
   ]
  },
  {
   "cell_type": "code",
   "execution_count": null,
   "metadata": {
    "execution": {
     "iopub.execute_input": "2022-05-06T12:12:43.458176Z",
     "iopub.status.busy": "2022-05-06T12:12:43.457683Z",
     "iopub.status.idle": "2022-05-06T12:12:43.47004Z",
     "shell.execute_reply": "2022-05-06T12:12:43.469074Z",
     "shell.execute_reply.started": "2022-05-06T12:12:43.458132Z"
    }
   },
   "outputs": [],
   "source": [
    "# Pandas dataframe\n",
    "df_sec_docs = DataFrame(security_documents)\n",
    "df_non_sec_docs = DataFrame(non_security_documents)\n",
    "\n",
    "# Text representation\n",
    "sec_docs_text = df_sec_docs.text.tolist()\n",
    "non_sec_docs_text = df_non_sec_docs.text.tolist()"
   ]
  },
  {
   "cell_type": "code",
   "execution_count": null,
   "metadata": {
    "execution": {
     "iopub.execute_input": "2022-05-06T12:12:43.471782Z",
     "iopub.status.busy": "2022-05-06T12:12:43.471304Z",
     "iopub.status.idle": "2022-05-06T12:12:43.490559Z",
     "shell.execute_reply": "2022-05-06T12:12:43.489509Z",
     "shell.execute_reply.started": "2022-05-06T12:12:43.471746Z"
    }
   },
   "outputs": [],
   "source": [
    "print(df_sec_docs.head(10))"
   ]
  },
  {
   "cell_type": "markdown",
   "metadata": {},
   "source": [
    "### Text preprocessing"
   ]
  },
  {
   "cell_type": "markdown",
   "metadata": {},
   "source": [
    "The Spacy library performs tokenization on the documents and automatically attaches several pieces of information to each word: \n",
    "* lemma\n",
    "* pos-tag\n",
    "* is stop-word"
   ]
  },
  {
   "cell_type": "markdown",
   "metadata": {},
   "source": [
    "Spacy does not include a stemmer"
   ]
  },
  {
   "cell_type": "code",
   "execution_count": null,
   "metadata": {
    "execution": {
     "iopub.execute_input": "2022-05-06T12:12:43.494127Z",
     "iopub.status.busy": "2022-05-06T12:12:43.493491Z",
     "iopub.status.idle": "2022-05-06T12:14:32.091602Z",
     "shell.execute_reply": "2022-05-06T12:14:32.090745Z",
     "shell.execute_reply.started": "2022-05-06T12:12:43.494088Z"
    }
   },
   "outputs": [],
   "source": [
    "nlp = spacy.load('en_core_web_sm')\n",
    "spacy_non_sec_docs= [nlp(document) for document in df_non_sec_docs['text']]\n",
    "spacy_sec_docs= [nlp(document) for document in df_sec_docs['text']]"
   ]
  },
  {
   "cell_type": "markdown",
   "metadata": {},
   "source": [
    "### Class distribution"
   ]
  },
  {
   "cell_type": "code",
   "execution_count": null,
   "metadata": {
    "execution": {
     "iopub.execute_input": "2022-05-06T12:14:32.0933Z",
     "iopub.status.busy": "2022-05-06T12:14:32.092951Z",
     "iopub.status.idle": "2022-05-06T12:14:32.423987Z",
     "shell.execute_reply": "2022-05-06T12:14:32.423075Z",
     "shell.execute_reply.started": "2022-05-06T12:14:32.093255Z"
    }
   },
   "outputs": [],
   "source": [
    "plt.rcParams['figure.figsize'] = (7, 5)\n",
    "plt.bar(10,len(df_non_sec_docs),3, label=\"Non security relevant docs\", color='blue')\n",
    "plt.bar(15,len(df_sec_docs),3, label=\"Security relevant docs\", color='red')\n",
    "plt.legend()\n",
    "ax = plt.gca()\n",
    "ax.axes.xaxis.set_visible(False)\n",
    "plt.ylabel('Number of documents')\n",
    "plt.title('Class distribution Windows 10 v1909 configuration settings')\n",
    "plt.savefig('ClassDist.png', bbox_inches='tight')\n",
    "plt.show()"
   ]
  },
  {
   "cell_type": "markdown",
   "metadata": {},
   "source": [
    "### Feature extraction characteristics"
   ]
  },
  {
   "cell_type": "code",
   "execution_count": null,
   "metadata": {
    "execution": {
     "iopub.execute_input": "2022-05-06T12:14:32.425835Z",
     "iopub.status.busy": "2022-05-06T12:14:32.425528Z",
     "iopub.status.idle": "2022-05-06T12:14:32.433705Z",
     "shell.execute_reply": "2022-05-06T12:14:32.433086Z",
     "shell.execute_reply.started": "2022-05-06T12:14:32.425793Z"
    }
   },
   "outputs": [],
   "source": [
    "punctuations = string.punctuation\n",
    "\n",
    "def print_word_cloud(input_words, title, file_name):\n",
    "    \"\"\"\n",
    "    create word cloud and save to file\n",
    "    \"\"\"\n",
    "    plt.figure(figsize=(16,13))\n",
    "    word_could_dict=Counter(input_words)\n",
    "    wc = WordCloud(background_color=\"white\", max_words=500, max_font_size= 200,  width=1600, height=800).generate_from_frequencies(word_could_dict)\n",
    "    plt.title(title, fontsize=20)\n",
    "    plt.imshow(wc.recolor( colormap= 'viridis' , random_state=17), alpha=0.98, interpolation=\"bilinear\", )\n",
    "    plt.axis('off')\n",
    "    wc.to_file(file_name)\n",
    "    \n",
    "def to_df(words, col_lst):\n",
    "    \"\"\"\n",
    "    display dataframe with color gradient\n",
    "    \"\"\"\n",
    "    df = DataFrame(words)\n",
    "    df.columns = col_lst\n",
    "    display(df.style.background_gradient(cmap='Blues'))"
   ]
  },
  {
   "cell_type": "markdown",
   "metadata": {},
   "source": [
    "### POS Tags"
   ]
  },
  {
   "cell_type": "markdown",
   "metadata": {},
   "source": [
    "#### Distribution\n",
    "The words from the sec-docs are grouped by their POS tag and displayed in a word cloud"
   ]
  },
  {
   "cell_type": "code",
   "execution_count": null,
   "metadata": {
    "execution": {
     "iopub.execute_input": "2022-05-06T12:14:32.435114Z",
     "iopub.status.busy": "2022-05-06T12:14:32.434753Z",
     "iopub.status.idle": "2022-05-06T12:14:51.594192Z",
     "shell.execute_reply": "2022-05-06T12:14:51.593389Z",
     "shell.execute_reply.started": "2022-05-06T12:14:32.435081Z"
    }
   },
   "outputs": [],
   "source": [
    "regex = re.compile('[@_!#$%^&*()<>?/\\|}{~:]')\n",
    "pos_dict = {'NN':[],'JJ':[],'VB':[],'RB':[]}\n",
    "for pos in pos_dict:\n",
    "    pos_dict[pos]= [token.lemma_.lower() for doc in spacy_sec_docs for sent in doc.sents for token in sent if (regex.search(token.text) is None) and (not token.is_stop) and re.search(re.compile(rf'{pos}.*'),token.tag_)]\n",
    "    print_word_cloud(pos_dict[pos], f\"{pos} in Windows 10 v1909 security documents\", f\"{pos}Wc.png\") "
   ]
  },
  {
   "cell_type": "markdown",
   "metadata": {},
   "source": [
    "#### Frequent noun chunks"
   ]
  },
  {
   "cell_type": "code",
   "execution_count": null,
   "metadata": {
    "execution": {
     "iopub.execute_input": "2022-05-06T12:14:51.595809Z",
     "iopub.status.busy": "2022-05-06T12:14:51.595393Z",
     "iopub.status.idle": "2022-05-06T12:14:52.031781Z",
     "shell.execute_reply": "2022-05-06T12:14:52.031017Z",
     "shell.execute_reply.started": "2022-05-06T12:14:51.595776Z"
    }
   },
   "outputs": [],
   "source": [
    "noun_chunks = Counter([chunk.text.lower() for doc in spacy_sec_docs for sent in doc.sents for chunk in sent.noun_chunks if len(chunk.text)>4])\n",
    "to_df(noun_chunks.most_common(50), ['noun_chunks','count'])"
   ]
  },
  {
   "cell_type": "markdown",
   "metadata": {},
   "source": [
    "### N-grams"
   ]
  },
  {
   "cell_type": "markdown",
   "metadata": {},
   "source": [
    "#### Collocations"
   ]
  },
  {
   "cell_type": "code",
   "execution_count": null,
   "metadata": {
    "execution": {
     "iopub.execute_input": "2022-05-06T12:14:52.034306Z",
     "iopub.status.busy": "2022-05-06T12:14:52.034074Z",
     "iopub.status.idle": "2022-05-06T12:14:52.455862Z",
     "shell.execute_reply": "2022-05-06T12:14:52.454935Z",
     "shell.execute_reply.started": "2022-05-06T12:14:52.034276Z"
    }
   },
   "outputs": [],
   "source": [
    "plain_tokens =[token for document in sec_docs_text for token in word_tokenize(document)]\n",
    "Text(plain_tokens).collocations()"
   ]
  },
  {
   "cell_type": "markdown",
   "metadata": {},
   "source": [
    "#### Named Entity Recognition"
   ]
  },
  {
   "cell_type": "code",
   "execution_count": null,
   "metadata": {
    "execution": {
     "iopub.execute_input": "2022-05-06T12:14:52.457219Z",
     "iopub.status.busy": "2022-05-06T12:14:52.456973Z",
     "iopub.status.idle": "2022-05-06T12:14:58.559902Z",
     "shell.execute_reply": "2022-05-06T12:14:58.559073Z",
     "shell.execute_reply.started": "2022-05-06T12:14:52.457188Z"
    }
   },
   "outputs": [],
   "source": [
    "ner=[ent.text.lower() for doc in spacy_sec_docs for sent in doc.sents for ent in sent.ents if len(sent)>3]\n",
    "print_word_cloud(ner, \"Named entities in security documents\", \"NE.png\")"
   ]
  },
  {
   "cell_type": "markdown",
   "metadata": {},
   "source": [
    "### Frequency"
   ]
  },
  {
   "cell_type": "markdown",
   "metadata": {},
   "source": [
    "#### 1. High frequency"
   ]
  },
  {
   "cell_type": "markdown",
   "metadata": {},
   "source": [
    "#### Sec-docs"
   ]
  },
  {
   "cell_type": "code",
   "execution_count": null,
   "metadata": {
    "execution": {
     "iopub.execute_input": "2022-05-06T12:14:58.561477Z",
     "iopub.status.busy": "2022-05-06T12:14:58.561266Z",
     "iopub.status.idle": "2022-05-06T12:14:58.610022Z",
     "shell.execute_reply": "2022-05-06T12:14:58.60939Z",
     "shell.execute_reply.started": "2022-05-06T12:14:58.56145Z"
    }
   },
   "outputs": [],
   "source": [
    "sec_lemma_tokens = Counter([token.lemma_.lower() for doc in spacy_sec_docs for sent in doc.sents for token in sent if (not token.is_stop) and (token.lemma_ not in punctuations)])\n",
    "print(f\"Amount of sec tokens: {len(sec_lemma_tokens)}\")\n",
    "to_df(sec_lemma_tokens.most_common(50), ['Frequent_words','Count'])"
   ]
  },
  {
   "cell_type": "markdown",
   "metadata": {},
   "source": [
    "#### Non-sec-docs"
   ]
  },
  {
   "cell_type": "code",
   "execution_count": null,
   "metadata": {
    "execution": {
     "iopub.execute_input": "2022-05-06T12:14:58.6118Z",
     "iopub.status.busy": "2022-05-06T12:14:58.610952Z",
     "iopub.status.idle": "2022-05-06T12:14:59.096114Z",
     "shell.execute_reply": "2022-05-06T12:14:59.095266Z",
     "shell.execute_reply.started": "2022-05-06T12:14:58.611739Z"
    }
   },
   "outputs": [],
   "source": [
    "non_sec_lemma_tokens = Counter([token.lemma_.lower() for doc in spacy_non_sec_docs for sent in doc.sents for token in sent if (not token.is_stop) and (token.lemma_ not in punctuations)])\n",
    "print(f\"Amount of non-sec tokens: {len(non_sec_lemma_tokens)}\")\n",
    "to_df(non_sec_lemma_tokens.most_common(50), ['Frequent_words','Count'])"
   ]
  },
  {
   "cell_type": "markdown",
   "metadata": {},
   "source": [
    "#### Frequency of security relevant & frequent words from sec-docs in non-sec-docs"
   ]
  },
  {
   "cell_type": "code",
   "execution_count": null,
   "metadata": {
    "execution": {
     "iopub.execute_input": "2022-05-06T12:14:59.098112Z",
     "iopub.status.busy": "2022-05-06T12:14:59.097639Z",
     "iopub.status.idle": "2022-05-06T12:14:59.493446Z",
     "shell.execute_reply": "2022-05-06T12:14:59.492631Z",
     "shell.execute_reply.started": "2022-05-06T12:14:59.098068Z"
    }
   },
   "outputs": [],
   "source": [
    "security_identifying_words = {'access', 'password', 'bitlocker', 'encryption', 'update', 'recovery'}\n",
    "sec_tokens_in_non_sec_docs = Counter([token.lemma_.lower() for doc in spacy_non_sec_docs for sent in doc.sents for token in sent if token.lemma_.lower() in security_identifying_words])\n",
    "to_df(sec_tokens_in_non_sec_docs.most_common(6), ['Sec_words','Count_in_non-sec_docs'])"
   ]
  },
  {
   "cell_type": "markdown",
   "metadata": {},
   "source": [
    "#### 2. Words occurring only in sec or non-sec docs"
   ]
  },
  {
   "cell_type": "markdown",
   "metadata": {},
   "source": [
    "#### Words occurring only in sec docs"
   ]
  },
  {
   "cell_type": "code",
   "execution_count": null,
   "metadata": {
    "execution": {
     "iopub.execute_input": "2022-05-06T12:14:59.495333Z",
     "iopub.status.busy": "2022-05-06T12:14:59.494873Z",
     "iopub.status.idle": "2022-05-06T12:15:03.267577Z",
     "shell.execute_reply": "2022-05-06T12:15:03.266923Z",
     "shell.execute_reply.started": "2022-05-06T12:14:59.495293Z"
    }
   },
   "outputs": [],
   "source": [
    "sec_tokens = sec_lemma_tokens.keys()\n",
    "non_sec_tokens = non_sec_lemma_tokens.keys()\n",
    "\n",
    "sec_only_words = sec_tokens-non_sec_tokens\n",
    "# display long words that occur only in sec-docs\n",
    "long_sec_only_words = set(word for word in sec_only_words if (len(word)>2) and (len(word)<16) and (regex.search(word) is None))\n",
    "\n",
    "print(f\"Number of words occurring only in security documents: {len(long_sec_only_words)}\")\n",
    "\n",
    "# Word-Cloud\n",
    "print_word_cloud(long_sec_only_words, \"Words occurring in sec-docs only\", \"OnlySecWords.png\")"
   ]
  },
  {
   "cell_type": "code",
   "execution_count": null,
   "metadata": {
    "execution": {
     "iopub.execute_input": "2022-05-06T12:15:03.268971Z",
     "iopub.status.busy": "2022-05-06T12:15:03.268637Z",
     "iopub.status.idle": "2022-05-06T12:15:03.274078Z",
     "shell.execute_reply": "2022-05-06T12:15:03.273034Z",
     "shell.execute_reply.started": "2022-05-06T12:15:03.268941Z"
    }
   },
   "outputs": [],
   "source": [
    "long_low_freq_sec_only_words = set(word for word in long_sec_only_words if sec_lemma_tokens[word]<=5) \n",
    "print(f\"Number of words occurring only in security documents having a low frequency < 5: {len(long_low_freq_sec_only_words)}\")"
   ]
  },
  {
   "cell_type": "code",
   "execution_count": null,
   "metadata": {
    "execution": {
     "iopub.execute_input": "2022-05-06T12:15:03.275536Z",
     "iopub.status.busy": "2022-05-06T12:15:03.275328Z",
     "iopub.status.idle": "2022-05-06T12:15:04.670644Z",
     "shell.execute_reply": "2022-05-06T12:15:04.669951Z",
     "shell.execute_reply.started": "2022-05-06T12:15:03.27551Z"
    }
   },
   "outputs": [],
   "source": [
    "long_G5freq_sec_only_words = set(word for word in long_sec_only_words if sec_lemma_tokens[word]>5)\n",
    "\n",
    "print(f\"Number of words occurring only in security documents having a frequency > 5: {len(long_G5freq_sec_only_words)}\")\n",
    "\n",
    "# Word-Cloud\n",
    "print_word_cloud(long_G5freq_sec_only_words, \"Words occurring only in sec docs with a frequency > 5\", \"freq-sec-only.png\")"
   ]
  },
  {
   "cell_type": "markdown",
   "metadata": {},
   "source": [
    "#### Words occurring only in non-sec-docs"
   ]
  },
  {
   "cell_type": "code",
   "execution_count": null,
   "metadata": {
    "execution": {
     "iopub.execute_input": "2022-05-06T12:15:04.672517Z",
     "iopub.status.busy": "2022-05-06T12:15:04.671987Z",
     "iopub.status.idle": "2022-05-06T12:15:12.011395Z",
     "shell.execute_reply": "2022-05-06T12:15:12.010335Z",
     "shell.execute_reply.started": "2022-05-06T12:15:04.672479Z"
    }
   },
   "outputs": [],
   "source": [
    "non_sec_only_words = non_sec_tokens-sec_tokens\n",
    "# display long words that occur only in non-sec-docs\n",
    "long_non_sec_only_words = set(word for word in non_sec_only_words if (len(word)>2) and (len(word)<16) and (regex.search(word) is None))\n",
    "\n",
    "print(f\"Number of words occurring only in non-sec documents: {len(long_non_sec_only_words)}\")\n",
    "\n",
    "# Word-Cloud\n",
    "print_word_cloud(long_non_sec_only_words, \"Words occurring in non-sec-docs only\", \"Non-sec-only.png\")"
   ]
  },
  {
   "cell_type": "code",
   "execution_count": null,
   "metadata": {
    "execution": {
     "iopub.execute_input": "2022-05-06T12:15:12.013247Z",
     "iopub.status.busy": "2022-05-06T12:15:12.012902Z",
     "iopub.status.idle": "2022-05-06T12:15:12.504116Z",
     "shell.execute_reply": "2022-05-06T12:15:12.503318Z",
     "shell.execute_reply.started": "2022-05-06T12:15:12.013212Z"
    }
   },
   "outputs": [],
   "source": [
    "non_sec_only_freq = Counter([token.lemma_.lower() for doc in spacy_non_sec_docs for sent in doc.sents for token in sent if (not token.is_stop) and (token.lemma_ not in punctuations) and (token.lemma_.lower() not in sec_tokens)])\n",
    "to_df(non_sec_only_freq.most_common(50), ['Words_in_non-sec_docs_only','Count'])"
   ]
  },
  {
   "cell_type": "markdown",
   "metadata": {},
   "source": [
    "#### 3. Td-idf"
   ]
  },
  {
   "cell_type": "code",
   "execution_count": null,
   "metadata": {
    "execution": {
     "iopub.execute_input": "2022-05-06T12:15:12.505656Z",
     "iopub.status.busy": "2022-05-06T12:15:12.505435Z",
     "iopub.status.idle": "2022-05-06T12:15:12.512695Z",
     "shell.execute_reply": "2022-05-06T12:15:12.511673Z",
     "shell.execute_reply.started": "2022-05-06T12:15:12.505627Z"
    }
   },
   "outputs": [],
   "source": [
    "# https://www.bogotobogo.com/python/NLTK/tf_idf_with_scikit-learn_NLTK.php\n",
    "def tokenize(text):\n",
    "    \"\"\"\n",
    "    tokenize text and remove stop words and punctuations\n",
    "    \"\"\"\n",
    "    spacy_text= nlp(text)\n",
    "    lemma_tokens = [token.lemma_.lower() for sent in spacy_text.sents for token in sent if (not token.is_stop) and (token.lemma_ not in punctuations)]\n",
    "    return lemma_tokens\n",
    "\n",
    "def tf_idf_feature_extraction(data):\n",
    "    \"\"\"\n",
    "    Extract features using TF-IDF\n",
    "    \"\"\"\n",
    "    vectorizer = TfidfVectorizer(tokenizer=tokenize)\n",
    "    feature_set = set()\n",
    "    response = vectorizer.fit_transform(data)\n",
    "    for i in range(len(data)):\n",
    "        df = DataFrame(response[i].T.todense(),\n",
    "            index=vectorizer.get_feature_names(),\n",
    "            columns=[\"tfidf\"])\n",
    "        for e in df.index[df.tfidf >= 0.5].tolist():\n",
    "            if (len(e) > 2) and (len(e) < 16):\n",
    "                feature_set.add(e)\n",
    "    return feature_set"
   ]
  },
  {
   "cell_type": "markdown",
   "metadata": {},
   "source": [
    "#### Sec-docs"
   ]
  },
  {
   "cell_type": "code",
   "execution_count": null,
   "metadata": {
    "execution": {
     "iopub.execute_input": "2022-05-06T12:15:12.514648Z",
     "iopub.status.busy": "2022-05-06T12:15:12.514162Z",
     "iopub.status.idle": "2022-05-06T12:15:22.204946Z",
     "shell.execute_reply": "2022-05-06T12:15:22.204058Z",
     "shell.execute_reply.started": "2022-05-06T12:15:12.514594Z"
    }
   },
   "outputs": [],
   "source": [
    "tfidf_sec_docs_features = tf_idf_feature_extraction(sec_docs_text)\n",
    "print(f\"Feature size: {len(tfidf_sec_docs_features)}\")\n",
    "\n",
    "# Word-Cloud\n",
    "print_word_cloud(tfidf_sec_docs_features, \"Tf-idf sec-docs features\", \"tf_idf_sec_docs_features.png\")"
   ]
  },
  {
   "cell_type": "markdown",
   "metadata": {},
   "source": [
    "##### Manual identification of security relevant words"
   ]
  },
  {
   "cell_type": "code",
   "execution_count": null,
   "metadata": {
    "execution": {
     "iopub.execute_input": "2022-05-06T12:15:22.206706Z",
     "iopub.status.busy": "2022-05-06T12:15:22.206426Z",
     "iopub.status.idle": "2022-05-06T12:15:24.901595Z",
     "shell.execute_reply": "2022-05-06T12:15:24.900678Z",
     "shell.execute_reply.started": "2022-05-06T12:15:22.206671Z"
    }
   },
   "outputs": [],
   "source": [
    "sec_identifying_words={'inprivate', 'connectivity', 'trust', 'spotlight', 'encryption', 'registration', 'wdig', 'print', 'insecure', 'pin', 'preview', 'blocker', 'recovery', 'recording', 'disconnected', 'remote', 'log', 'game', 'bridge', 'antivirus', 'updates', 'store', 'standby', 'peer', 'driver', 'quality', 'complexity', 'build', 'index', 'winrm', 'pause', 'boot', 'protocol', 'search', 'autoplay', 'toast', 'cookie', 'sehop', 'monitoring', 'camera', 'cortana', 'flag', 'certificate', 'notification', 'scan', 'connection', 'rpc', 'installation', 'elevate', 'dangerous', 'smartscreen', 'clipboard', 'password', 'lpt', 'microphone', 'credssp', 'watson', 'join', 'share', 'sleep', 'player', 'redirection', 'publish', 'push', 'credential', 'dma', 'expiration', 'update', 'authentication', 'mapper', 'location', 'late', 'ntp', 'saver', 'enumerate', 'restart', 'error', 'autorun', 'tip', 'llmnr'}\n",
    "print(f\"Number of security identifying words: {len(sec_identifying_words)}\")\n",
    "\n",
    "# Word-Cloud\n",
    "print_word_cloud(sec_identifying_words, \"Tf-idf security words\", \"security_words.png\")"
   ]
  },
  {
   "cell_type": "markdown",
   "metadata": {},
   "source": [
    "#### Frequency of security relevant words identified with td-idf in non-sec docs"
   ]
  },
  {
   "cell_type": "code",
   "execution_count": null,
   "metadata": {
    "execution": {
     "iopub.execute_input": "2022-05-06T12:15:24.903246Z",
     "iopub.status.busy": "2022-05-06T12:15:24.902957Z",
     "iopub.status.idle": "2022-05-06T12:15:25.309762Z",
     "shell.execute_reply": "2022-05-06T12:15:25.308839Z",
     "shell.execute_reply.started": "2022-05-06T12:15:24.903212Z"
    }
   },
   "outputs": [],
   "source": [
    "freq_sec_words_in_non_sec_docs = Counter([token.lemma_.lower() for doc in spacy_non_sec_docs for sent in doc.sents for token in sent if token.lemma_.lower() in sec_identifying_words])\n",
    "to_df(freq_sec_words_in_non_sec_docs.most_common(50), ['Sec_words','Count_in_non-sec_docs'])"
   ]
  },
  {
   "cell_type": "markdown",
   "metadata": {},
   "source": [
    "#### POS Tags of security relevant words"
   ]
  },
  {
   "cell_type": "code",
   "execution_count": null,
   "metadata": {
    "execution": {
     "iopub.execute_input": "2022-05-06T12:15:25.312611Z",
     "iopub.status.busy": "2022-05-06T12:15:25.312384Z",
     "iopub.status.idle": "2022-05-06T12:15:25.683215Z",
     "shell.execute_reply": "2022-05-06T12:15:25.682205Z",
     "shell.execute_reply.started": "2022-05-06T12:15:25.312585Z"
    }
   },
   "outputs": [],
   "source": [
    "tag_dict = {'NN':0, 'VB':0, 'JJ':0, 'RB':0}\n",
    "for pos in tag_dict:\n",
    "    tag_dict[pos]= len([1 for doc in spacy_sec_docs for sent in doc.sents for token in sent if (token.lemma_.lower() in sec_identifying_words) and re.search(re.compile(rf'{pos}.*'),token.tag_)])\n",
    "plt.rcParams['figure.figsize'] = (18.0, 6.0)\n",
    "x,y=zip(*tag_dict.items())\n",
    "plt.bar(x,y)\n",
    "plt.savefig('POSDist.png', bbox_inches='tight')     "
   ]
  },
  {
   "cell_type": "markdown",
   "metadata": {},
   "source": [
    "#### Non-sec-docs"
   ]
  },
  {
   "cell_type": "code",
   "execution_count": null,
   "metadata": {
    "execution": {
     "iopub.execute_input": "2022-05-06T12:15:25.684642Z",
     "iopub.status.busy": "2022-05-06T12:15:25.684394Z",
     "iopub.status.idle": "2022-05-06T12:17:24.875821Z",
     "shell.execute_reply": "2022-05-06T12:17:24.874937Z",
     "shell.execute_reply.started": "2022-05-06T12:15:25.684612Z"
    }
   },
   "outputs": [],
   "source": [
    "tfidf_non_sec_docs_features = tf_idf_feature_extraction(non_sec_docs_text)\n",
    "print(f\"Feature size: {len(tfidf_non_sec_docs_features)}\")\n",
    "\n",
    "# Word-Cloud\n",
    "print_word_cloud(tfidf_non_sec_docs_features, \"Tf-idf non-sec-docs features\", \"tf_idf_non_sec_docs_features.png\")"
   ]
  },
  {
   "cell_type": "code",
   "execution_count": null,
   "metadata": {
    "execution": {
     "iopub.execute_input": "2022-05-06T12:17:24.877373Z",
     "iopub.status.busy": "2022-05-06T12:17:24.877144Z",
     "iopub.status.idle": "2022-05-06T12:17:25.386646Z",
     "shell.execute_reply": "2022-05-06T12:17:25.385729Z",
     "shell.execute_reply.started": "2022-05-06T12:17:24.877346Z"
    }
   },
   "outputs": [],
   "source": [
    "tfidf_non_sec_words_freq = Counter([token.lemma_.lower() for doc in spacy_non_sec_docs for sent in doc.sents for token in sent if (not token.is_stop) and (token.lemma_ not in punctuations) and (token.lemma_.lower() in tfidf_non_sec_docs_features) and (token.lemma_.lower() not in sec_tokens)])\n",
    "print(f\"Number of Tfidf features occurring in non-sec and not in sec-docs {len(tfidf_non_sec_words_freq)}\")\n",
    "to_df(tfidf_non_sec_words_freq.most_common(50), ['Non-sec_tf-idf_features','Count'])"
   ]
  },
  {
   "cell_type": "code",
   "execution_count": null,
   "metadata": {
    "execution": {
     "iopub.execute_input": "2022-05-06T12:17:25.38791Z",
     "iopub.status.busy": "2022-05-06T12:17:25.387707Z",
     "iopub.status.idle": "2022-05-06T12:17:30.795627Z",
     "shell.execute_reply": "2022-05-06T12:17:30.792141Z",
     "shell.execute_reply.started": "2022-05-06T12:17:25.387884Z"
    }
   },
   "outputs": [],
   "source": [
    "# Word-Cloud\n",
    "print_word_cloud(tfidf_non_sec_words_freq, \"Tf-idf non-sec-only features\", \"tf_idf_non_sec_only_features.png\")"
   ]
  }
 ],
 "metadata": {
  "kernelspec": {
   "display_name": "Python 3",
   "language": "python",
   "name": "python3"
  },
  "language_info": {
   "codemirror_mode": {
    "name": "ipython",
    "version": 3
   },
   "file_extension": ".py",
   "mimetype": "text/x-python",
   "name": "python",
   "nbconvert_exporter": "python",
   "pygments_lexer": "ipython3",
   "version": "3.6.4"
  }
 },
 "nbformat": 4,
 "nbformat_minor": 4
}
